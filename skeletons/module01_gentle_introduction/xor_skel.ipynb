{
  "cells": [
    {
      "cell_type": "markdown",
      "metadata": {
        "id": "pXrtMYLIhwI2"
      },
      "source": [
        "# Deep Learning Demo: XOR\n",
        "## Jupyter Lab Version\n",
        "\n",
        "Author: Andrew H. Fagg (andrewhfagg@gmail.com)"
      ]
    },
    {
      "cell_type": "code",
      "execution_count": null,
      "metadata": {
        "id": "vaVnM6k0hwI5"
      },
      "outputs": [],
      "source": [
        "import tensorflow as tf\n",
        "import pandas as pd\n",
        "import numpy as np\n",
        "import matplotlib.pyplot as plt\n",
        "from tensorflow import keras\n",
        "import os\n",
        "import time\n",
        "\n",
        "# Tensorflow 2.x way of doing things (if this doesn't work, then you have a very old version of tensorflow)\n",
        "from tensorflow.keras.layers import InputLayer, Dense\n",
        "from tensorflow.keras.models import Sequential\n",
        "\n",
        "# Default plotting parameters\n",
        "FONTSIZE = 18\n",
        "plt.rcParams['figure.figsize'] = (10, 6)\n",
        "plt.rcParams['font.size'] = FONTSIZE"
      ]
    },
    {
      "cell_type": "code",
      "execution_count": null,
      "metadata": {
        "id": "_IWVVp_AhwI7"
      },
      "outputs": [],
      "source": [
        "# Shell command to check GPU usage: nvidia-smi\n",
        "# Execute if you do not want the GPU to be used:\n",
        "os.environ[\"CUDA_VISIBLE_DEVICES\"] = \"-1\"\n"
      ]
    },
    {
      "cell_type": "code",
      "execution_count": null,
      "metadata": {
        "id": "-M3cA6m-hwI-"
      },
      "outputs": [],
      "source": [
        "def build_model(n_inputs, n_hidden, n_output, activation='elu', lrate=0.001):\n",
        "    '''\n",
        "    Build a simple dense model\n",
        "    \n",
        "    :param n_inputs: Number of input dimensions\n",
        "    :param n_hidden: Number of units in the hidden layer\n",
        "    :param n_output: Number of ouptut dimensions\n",
        "    :param activation: Activation function to be used for hidden and output units\n",
        "    :param lrate: Learning rate for Adam Optimizer\n",
        "    '''\n",
        "    # Simple sequential model\n",
        "    model = Sequential();\n",
        "    \n",
        "    # Input layer\n",
        "\n",
        "    # Hidden layer\n",
        "\n",
        "    # Output layer\n",
        "    \n",
        "    # My favorite optimizer\n",
        "    opt = ...\n",
        "\n",
        "    # Compile the model.  Mean squared error loss\n",
        "    model.compile(...)\n",
        "\n",
        "    # Display the network\n",
        "    print(model.summary())\n",
        "    \n",
        "    #\n",
        "    return model"
      ]
    },
    {
      "cell_type": "code",
      "execution_count": null,
      "metadata": {
        "id": "13frPjVehwI_"
      },
      "outputs": [],
      "source": [
        "# Create training set: XOR\n",
        "ins = np.array([[0, 0], [0, 1], [1, 0], [1,1]])\n",
        "outs = np.array([[0], [1], [1], [0]])"
      ]
    },
    {
      "cell_type": "code",
      "execution_count": null,
      "metadata": {
        "id": "KOqm1PTMhwJA"
      },
      "outputs": [],
      "source": []
    },
    {
      "cell_type": "code",
      "execution_count": null,
      "metadata": {
        "id": "XhcfY8L6hwJB"
      },
      "outputs": [],
      "source": []
    },
    {
      "cell_type": "code",
      "execution_count": null,
      "metadata": {
        "id": "CPvidPfChwJC"
      },
      "outputs": [],
      "source": [
        "# Build our XOR network.  \n",
        "# Note: sigmoid is a must for binary functions\n",
        "model = ..."
      ]
    },
    {
      "cell_type": "code",
      "execution_count": null,
      "metadata": {
        "id": "kRDFDew-hwJD"
      },
      "outputs": [],
      "source": [
        "# Training\n",
        "history = ..."
      ]
    },
    {
      "cell_type": "code",
      "execution_count": null,
      "metadata": {
        "id": "zLgpXjmTY9uV"
      },
      "outputs": [],
      "source": []
    },
    {
      "cell_type": "code",
      "execution_count": null,
      "metadata": {
        "id": "bHVwZ84_hwJE"
      },
      "outputs": [],
      "source": [
        "# Display learning curve\n"
      ]
    },
    {
      "cell_type": "code",
      "execution_count": null,
      "metadata": {
        "id": "zRvP0PHihwJF"
      },
      "outputs": [],
      "source": []
    },
    {
      "cell_type": "code",
      "execution_count": null,
      "metadata": {
        "id": "HikDEsFEair6"
      },
      "outputs": [],
      "source": []
    }
  ],
  "metadata": {
    "colab": {
      "provenance": [],
      "collapsed_sections": []
    },
    "kernelspec": {
      "display_name": "Python 3 (ipykernel)",
      "language": "python",
      "name": "python3"
    },
    "language_info": {
      "codemirror_mode": {
        "name": "ipython",
        "version": 3
      },
      "file_extension": ".py",
      "mimetype": "text/x-python",
      "name": "python",
      "nbconvert_exporter": "python",
      "pygments_lexer": "ipython3",
      "version": "3.9.9"
    }
  },
  "nbformat": 4,
  "nbformat_minor": 0
}